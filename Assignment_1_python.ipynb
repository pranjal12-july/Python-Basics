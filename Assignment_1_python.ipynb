{
  "nbformat": 4,
  "nbformat_minor": 0,
  "metadata": {
    "colab": {
      "provenance": []
    },
    "kernelspec": {
      "name": "python3",
      "display_name": "Python 3"
    },
    "language_info": {
      "name": "python"
    }
  },
  "cells": [
    {
      "cell_type": "code",
      "execution_count": null,
      "metadata": {
        "id": "k8Ygym4Aw3fd"
      },
      "outputs": [],
      "source": []
    },
    {
      "cell_type": "markdown",
      "source": [
        "Question 1:\n",
        "What is Python, and why is it popular?\n",
        "\n",
        "Answer:\n",
        "Python is a high-level, interpreted programming language known for its simplicity and readability. Its syntax is clear and concise, making it ideal for beginners and experts alike. Python's popularity comes from its versatility, supporting multiple programming paradigms (procedural, object-oriented, functional), and its wide range of applications from web development and data science to machine learning, automation, and more. Additionally, Python has a large and active community, making it easy to find support and resources.\n",
        "\n",
        "Question 2:\n",
        "What is an interpreter in Python?\n",
        "\n",
        "Answer:\n",
        "An interpreter in Python is a program that reads and executes Python code line by line. Unlike a compiler, which translates the entire program into machine code before execution, an interpreter executes the code directly. Python is an interpreted language, meaning you don’t need to compile it before running it.\n",
        "\n",
        "Question 3:\n",
        "What are pre-defined keywords in Python?\n",
        "\n",
        "Answer:\n",
        "Pre-defined keywords in Python are reserved words that the language uses for its syntax and structure. These keywords cannot be used as identifiers (variable names, function names, etc.). Examples include if, else, while, class, def, try, except, return, True, False, and None.\n",
        "\n",
        "Question 4:\n",
        "Can keywords be used as variable names?\n",
        "\n",
        "Answer:\n",
        "No, keywords cannot be used as variable names in Python. Since they are reserved by the language, using them as variable names would cause a syntax error.\n",
        "\n",
        "Question 5:\n",
        "What is mutability in Python?\n",
        "\n",
        "Answer:\n",
        "Mutability refers to whether an object can be modified after it is created. A mutable object can be changed, while an immutable object cannot. In Python, lists are mutable, meaning you can change their contents, while tuples are immutable, meaning once created, their contents cannot be changed.\n",
        "\n",
        "Question 6:\n",
        "Why are lists mutable, but tuples are immutable?\n",
        "\n",
        "Answer:\n",
        "Lists are mutable because they are designed to store a sequence of items that may need to be modified over time. On the other hand, tuples are immutable because they are meant to store a collection of items that should not be altered after their creation. This immutability provides certain performance benefits and guarantees, such as being used as keys in dictionaries.\n",
        "\n",
        "Question 7:\n",
        "What is the difference between “==” and “is” operators in Python?\n",
        "\n",
        "Answer:\n",
        "== checks for value equality. It returns True if the values of the two operands are equal.\n",
        "is checks for identity equality. It returns True if both operands refer to the same object in memory (i.e., they are the exact same object).\n",
        "\n",
        "Question 8:\n",
        "What are logical operators in Python?\n",
        "\n",
        "Answer:\n",
        "Logical operators are used to combine conditional statements. Python has three logical operators:\n",
        "and: Returns True if both conditions are true.\n",
        "or: Returns True if at least one condition is true.\n",
        "not: Reverses the logical state of its operand (e.g., not True is False).\n",
        "\n",
        "Question 9:\n",
        "What is type casting in Python?\n",
        "\n",
        "Answer:\n",
        "Type casting is the process of converting one data type to another. For example, converting an integer to a string or a string to a float. In Python, this is done using functions like int(), float(), str(), etc.\n",
        "\n",
        "Question 10:\n",
        "What is the difference between implicit and explicit type casting?\n",
        "\n",
        "Answer:\n",
        "Implicit type casting (or coercion) happens automatically by Python when it converts one data type to another without the programmer's intervention. For example, adding an integer to a float results in an implicit conversion of the integer to a float.\n",
        "Explicit type casting is when the programmer manually converts one data type to another using functions like int(), float(), str(), etc.\n",
        "\n",
        "Question 11:\n",
        "What is the purpose of conditional statements in Python?\n",
        "\n",
        "Answer:\n",
        "Conditional statements in Python are used to execute different blocks of code based on specific conditions. The most common conditional statements are if, elif, and else. They allow the program to make decisions and control the flow of execution.\n",
        "\n",
        "Question 12:\n",
        "How does the elif statement work?\n",
        "\n",
        "Answer:\n",
        "The elif (short for \"else if\") statement is used in Python to check multiple conditions in sequence. If the condition following if is false, Python will check the condition in the elif statement. If it evaluates to true, the corresponding block of code will execute. If no if or elif condition is true, the code in the else block will execute (if an else is provided).\n",
        "\n",
        "Question 13:\n",
        "What is the difference between for and while loops?\n",
        "\n",
        "Answer:\n",
        "A for loop is used when the number of iterations is known or predetermined.\n",
        "A while loop is used when the number of iterations is not predetermined and depends on a condition. It keeps looping as long as the specified condition is true.\n",
        "\n",
        "Question 14:\n",
        "Describe a scenario where a while loop is more suitable than a for loop.\n",
        "\n",
        "Answer:\n",
        "A while loop is more suitable when you don't know the exact number of iterations beforehand and want to continue executing a block of code until a certain condition is met.\n"
      ],
      "metadata": {
        "id": "lo4ZiTCJxQTR"
      }
    },
    {
      "cell_type": "markdown",
      "source": [
        "**PRACTICAL QUESTIONS**\n"
      ],
      "metadata": {
        "id": "y4sHXOQWuz3M"
      }
    },
    {
      "cell_type": "markdown",
      "source": [
        "Question 1: Write a Python program to print \"Hello, World!_"
      ],
      "metadata": {
        "id": "wcG4teRCf8kD"
      }
    },
    {
      "cell_type": "code",
      "source": [
        "print(\"Hello, World!\")\n"
      ],
      "metadata": {
        "colab": {
          "base_uri": "https://localhost:8080/"
        },
        "id": "J6fbiYoexUiZ",
        "outputId": "7c5cd626-5f15-48d4-c003-ea6a7da080f0"
      },
      "execution_count": null,
      "outputs": [
        {
          "output_type": "stream",
          "name": "stdout",
          "text": [
            "Hello, World!\n"
          ]
        }
      ]
    },
    {
      "cell_type": "markdown",
      "source": [
        "Question 2:  Write a Python program that displays your name and age"
      ],
      "metadata": {
        "id": "qzUqdGq8gE6Q"
      }
    },
    {
      "cell_type": "code",
      "source": [
        "name = \"Pranjal Mttal\"\n",
        "age = 22\n",
        "print(\"Name:\", name)\n",
        "print(\"Age:\", age)\n"
      ],
      "metadata": {
        "colab": {
          "base_uri": "https://localhost:8080/"
        },
        "id": "pMRqMmxIysdC",
        "outputId": "ca26a47a-0304-43b2-96f1-4c7932b7e518"
      },
      "execution_count": null,
      "outputs": [
        {
          "output_type": "stream",
          "name": "stdout",
          "text": [
            "Name: Pranjal Mttal\n",
            "Age: 22\n"
          ]
        }
      ]
    },
    {
      "cell_type": "markdown",
      "source": [
        "Question 3: Write code to print all the pre-defined keywords in Python using the keyword library"
      ],
      "metadata": {
        "id": "Dwu8avs3gQIc"
      }
    },
    {
      "cell_type": "code",
      "source": [
        "import keyword\n",
        "print(\"Python Keywords:\", keyword.kwlist)\n"
      ],
      "metadata": {
        "colab": {
          "base_uri": "https://localhost:8080/"
        },
        "id": "TCOnMDGuy5ZF",
        "outputId": "6f08433a-f72d-4a3e-9cf9-e6ae710c57d0"
      },
      "execution_count": null,
      "outputs": [
        {
          "output_type": "stream",
          "name": "stdout",
          "text": [
            "Python Keywords: ['False', 'None', 'True', 'and', 'as', 'assert', 'async', 'await', 'break', 'class', 'continue', 'def', 'del', 'elif', 'else', 'except', 'finally', 'for', 'from', 'global', 'if', 'import', 'in', 'is', 'lambda', 'nonlocal', 'not', 'or', 'pass', 'raise', 'return', 'try', 'while', 'with', 'yield']\n"
          ]
        }
      ]
    },
    {
      "cell_type": "markdown",
      "source": [
        "Question 4: Write a program that checks if a given word is a Python keyword?"
      ],
      "metadata": {
        "id": "8Q9vFOolgO5k"
      }
    },
    {
      "cell_type": "code",
      "source": [
        "import keyword\n",
        "\n",
        "word = input(\"Enter a word: \")\n",
        "if keyword.iskeyword(word):\n",
        "    print(f\"{word} is a Python keyword.\")\n",
        "else:\n",
        "    print(f\"{word} is not a Python keyword.\")\n"
      ],
      "metadata": {
        "colab": {
          "base_uri": "https://localhost:8080/"
        },
        "id": "JEMvU8fLzGgW",
        "outputId": "0b54aa0e-5eae-4753-e6c0-ee622dd835f6"
      },
      "execution_count": null,
      "outputs": [
        {
          "output_type": "stream",
          "name": "stdout",
          "text": [
            "Enter a word: false\n",
            "false is not a Python keyword.\n"
          ]
        }
      ]
    },
    {
      "cell_type": "markdown",
      "source": [
        "Question 5:Create a list and tuple in Python, and demonstrate how attempting to change an element works differently\n",
        "for each?"
      ],
      "metadata": {
        "id": "MBxgmJPugaW3"
      }
    },
    {
      "cell_type": "code",
      "source": [
        "# List (mutable)\n",
        "my_list = [1, 2, 3]\n",
        "my_list[0] = 10  # This will work\n",
        "print(\"Updated list:\", my_list)\n",
        "\n",
        "# Tuple (immutable)\n",
        "my_tuple = (1, 2, 3)\n",
        "try:\n",
        "    my_tuple[0] = 10  # This will raise an error\n",
        "except TypeError as e:\n",
        "    print(\"Error:\", e)\n"
      ],
      "metadata": {
        "colab": {
          "base_uri": "https://localhost:8080/"
        },
        "id": "pfpWjHP0ziaq",
        "outputId": "a7a35277-8f0b-41ff-9ad8-ee627426b10d"
      },
      "execution_count": null,
      "outputs": [
        {
          "output_type": "stream",
          "name": "stdout",
          "text": [
            "Updated list: [10, 2, 3]\n",
            "Error: 'tuple' object does not support item assignment\n"
          ]
        }
      ]
    },
    {
      "cell_type": "markdown",
      "source": [
        "Question 6: Write a function to demonstrate the behavior of mutable and immutable arguments?"
      ],
      "metadata": {
        "id": "cPL335Nhg0dl"
      }
    },
    {
      "cell_type": "code",
      "source": [
        "def demonstrate_mutability(lst, tup):\n",
        "    lst[0] = 100  # Mutating list (mutable)\n",
        "    print(\"List after mutation:\", lst)\n",
        "\n",
        "    try:\n",
        "        tup[0] = 100  # Trying to mutate tuple (immutable)\n",
        "    except TypeError as e:\n",
        "        print(\"Error while mutating tuple:\", e)\n",
        "\n",
        "demonstrate_mutability([1, 2, 3], (1, 2, 3))\n"
      ],
      "metadata": {
        "id": "-aN5yUALz1XT",
        "outputId": "9ad1eb1f-f786-48fc-bca4-6a0814a334d2",
        "colab": {
          "base_uri": "https://localhost:8080/"
        }
      },
      "execution_count": null,
      "outputs": [
        {
          "output_type": "stream",
          "name": "stdout",
          "text": [
            "List after mutation: [100, 2, 3]\n",
            "Error while mutating tuple: 'tuple' object does not support item assignment\n"
          ]
        }
      ]
    },
    {
      "cell_type": "markdown",
      "source": [
        "Question 7: Write a function to demonstrate the behavior of mutable and immutable arguments?"
      ],
      "metadata": {
        "id": "RMGyWPpGg9A9"
      }
    },
    {
      "cell_type": "code",
      "source": [
        "def demonstrate_mutable_immutable():\n",
        "    # Immutable argument example\n",
        "    def modify_immutable(x):\n",
        "        x += 1\n",
        "        print(\"Inside function (immutable):\", x)\n",
        "\n",
        "    # Mutable argument example\n",
        "    def modify_mutable(lst):\n",
        "        lst.append(42)\n",
        "        print(\"Inside function (mutable):\", lst)\n",
        "\n",
        "    # Immutable test\n",
        "    num = 10\n",
        "    print(\"Before function call (immutable):\", num)\n",
        "    modify_immutable(num)\n",
        "    print(\"After function call (immutable):\", num)\n",
        "\n",
        "    # Mutable test\n",
        "    numbers = [1, 2, 3]\n",
        "    print(\"\\nBefore function call (mutable):\", numbers)\n",
        "    modify_mutable(numbers)\n",
        "    print(\"After function call (mutable):\", numbers)\n",
        "\n",
        "demonstrate_mutable_immutable()\n"
      ],
      "metadata": {
        "colab": {
          "base_uri": "https://localhost:8080/"
        },
        "id": "9zm-bnhjg-g0",
        "outputId": "1dd861f2-fb53-40c2-dac2-588f22405e1a"
      },
      "execution_count": null,
      "outputs": [
        {
          "output_type": "stream",
          "name": "stdout",
          "text": [
            "Before function call (immutable): 10\n",
            "Inside function (immutable): 11\n",
            "After function call (immutable): 10\n",
            "\n",
            "Before function call (mutable): [1, 2, 3]\n",
            "Inside function (mutable): [1, 2, 3, 42]\n",
            "After function call (mutable): [1, 2, 3, 42]\n"
          ]
        }
      ]
    },
    {
      "cell_type": "markdown",
      "source": [
        "Question 8: Write a program to demonstrate the use of logical operators."
      ],
      "metadata": {
        "id": "yI6J5geVg-4e"
      }
    },
    {
      "cell_type": "code",
      "source": [
        "a = 10\n",
        "b = 20\n",
        "c = 30\n",
        "\n",
        "# Logical AND\n",
        "print(a < b and b < c)  # True\n",
        "\n",
        "# Logical OR\n",
        "print(a > b or b < c)  # True\n",
        "\n",
        "# Logical NOT\n",
        "print(not (a > b))  # True\n"
      ],
      "metadata": {
        "colab": {
          "base_uri": "https://localhost:8080/"
        },
        "id": "O6hVBk3Wg_Gy",
        "outputId": "7eb31fd3-5bcf-40ca-ca34-2171086af8e5"
      },
      "execution_count": null,
      "outputs": [
        {
          "output_type": "stream",
          "name": "stdout",
          "text": [
            "True\n",
            "True\n",
            "True\n"
          ]
        }
      ]
    },
    {
      "cell_type": "markdown",
      "source": [
        "Question 9: Write a Python program to convert user input from string to integer, float, and boolean types.\n"
      ],
      "metadata": {
        "id": "cFiGrllxg_o8"
      }
    },
    {
      "cell_type": "code",
      "source": [
        "user_input = input(\"Enter a value: \")\n",
        "\n",
        "# Convert to integer\n",
        "try:\n",
        "    int_value = int(user_input)\n",
        "    print(\"Integer:\", int_value)\n",
        "except ValueError:\n",
        "    print(\"Cannot convert to integer\")\n",
        "\n",
        "# Convert to float\n",
        "try:\n",
        "    float_value = float(user_input)\n",
        "    print(\"Float:\", float_value)\n",
        "except ValueError:\n",
        "    print(\"Cannot convert to float\")\n",
        "\n",
        "# Convert to boolean\n",
        "bool_value = bool(user_input)\n",
        "print(\"Boolean:\", bool_value)\n"
      ],
      "metadata": {
        "colab": {
          "base_uri": "https://localhost:8080/"
        },
        "id": "ZEKo1ah6g_3P",
        "outputId": "5bde30da-8fec-4c05-f7a0-153e6dc21c5e"
      },
      "execution_count": null,
      "outputs": [
        {
          "output_type": "stream",
          "name": "stdout",
          "text": [
            "Enter a value: 23\n",
            "Integer: 23\n",
            "Float: 23.0\n",
            "Boolean: True\n"
          ]
        }
      ]
    },
    {
      "cell_type": "markdown",
      "source": [
        "Question 10: Write code to demonstrate type casting with list elements"
      ],
      "metadata": {
        "id": "AZWPiPRqhAFD"
      }
    },
    {
      "cell_type": "code",
      "source": [
        "my_list = ['1', '2', '3.5', 'True']\n",
        "\n",
        "# Convert elements to their respective types\n",
        "converted_list = []\n",
        "for elem in my_list:\n",
        "    if elem.isdigit():\n",
        "        converted_list.append(int(elem))\n",
        "    elif elem.replace('.', '', 1).isdigit():\n",
        "        converted_list.append(float(elem))\n",
        "    elif elem.lower() in ['true', 'false']:\n",
        "        converted_list.append(elem.lower() == 'true')\n",
        "    else:\n",
        "        converted_list.append(elem)\n",
        "\n",
        "print(\"Converted List:\", converted_list)\n"
      ],
      "metadata": {
        "colab": {
          "base_uri": "https://localhost:8080/"
        },
        "id": "GpUYdCBjhARh",
        "outputId": "1ab70b67-d84a-43ca-d635-3af9b49e89f1"
      },
      "execution_count": null,
      "outputs": [
        {
          "output_type": "stream",
          "name": "stdout",
          "text": [
            "Converted List: [1, 2, 3.5, True]\n"
          ]
        }
      ]
    },
    {
      "cell_type": "markdown",
      "source": [
        "Question 11: Write a program that checks if a number is positive, negative, or zero."
      ],
      "metadata": {
        "id": "JRqQNHBshAez"
      }
    },
    {
      "cell_type": "code",
      "source": [
        "number = float(input(\"Enter a number: \"))\n",
        "\n",
        "if number > 0:\n",
        "    print(\"The number is positive.\")\n",
        "elif number < 0:\n",
        "    print(\"The number is negative.\")\n",
        "else:\n",
        "    print(\"The number is zero.\")\n"
      ],
      "metadata": {
        "colab": {
          "base_uri": "https://localhost:8080/"
        },
        "id": "Uqe_Anu2hAqe",
        "outputId": "7254d865-850d-4b0c-a2f7-b582a31bcdb0"
      },
      "execution_count": null,
      "outputs": [
        {
          "output_type": "stream",
          "name": "stdout",
          "text": [
            "Enter a number: -6\n",
            "The number is negative.\n"
          ]
        }
      ]
    },
    {
      "cell_type": "markdown",
      "source": [
        "\n",
        "Question 12: Write a for loop to print numbers from 1 to 10."
      ],
      "metadata": {
        "id": "9Oeuo9vuhA4a"
      }
    },
    {
      "cell_type": "code",
      "source": [
        "for i in range(1, 11):\n",
        "    print(i, end=\" \")\n"
      ],
      "metadata": {
        "colab": {
          "base_uri": "https://localhost:8080/"
        },
        "id": "FBdLCMiEhBDz",
        "outputId": "2f66924d-b91f-4992-b177-ed7f29a64a52"
      },
      "execution_count": null,
      "outputs": [
        {
          "output_type": "stream",
          "name": "stdout",
          "text": [
            "1 2 3 4 5 6 7 8 9 10 "
          ]
        }
      ]
    },
    {
      "cell_type": "markdown",
      "source": [
        "Question 13: Write a Python program to find the sum of all even numbers between 1 and 50."
      ],
      "metadata": {
        "id": "iGIpiXefhBQU"
      }
    },
    {
      "cell_type": "code",
      "source": [
        "sum_even = sum(i for i in range(1, 51) if i % 2 == 0)\n",
        "print(\"Sum of all even numbers between 1 and 50:\", sum_even)\n"
      ],
      "metadata": {
        "colab": {
          "base_uri": "https://localhost:8080/"
        },
        "id": "lvbYtflNhBcy",
        "outputId": "7169daa3-57e7-4921-df50-1aa1b1d056db"
      },
      "execution_count": null,
      "outputs": [
        {
          "output_type": "stream",
          "name": "stdout",
          "text": [
            "Sum of all even numbers between 1 and 50: 650\n"
          ]
        }
      ]
    },
    {
      "cell_type": "markdown",
      "source": [
        "Question 14: Write a program to reverse a string using a while loop."
      ],
      "metadata": {
        "id": "D9F6QbjMhBzG"
      }
    },
    {
      "cell_type": "code",
      "source": [
        "string = input(\"Enter a string: \")\n",
        "reversed_string = \"\"\n",
        "index = len(string) - 1\n",
        "\n",
        "while index >= 0:\n",
        "    reversed_string += string[index]\n",
        "    index -= 1\n",
        "\n",
        "print(\"Reversed string:\", reversed_string)\n"
      ],
      "metadata": {
        "colab": {
          "base_uri": "https://localhost:8080/"
        },
        "id": "EeJt085xhB-F",
        "outputId": "e394b4f9-549a-43b6-fcff-813e1c527ab7"
      },
      "execution_count": null,
      "outputs": [
        {
          "output_type": "stream",
          "name": "stdout",
          "text": [
            "Enter a string: \"hello\"\n",
            "Reversed string: \"olleh\"\n"
          ]
        }
      ]
    },
    {
      "cell_type": "markdown",
      "source": [
        "Question 15: Write a Python program to calculate the factorial of a number provided by the user using a while loop."
      ],
      "metadata": {
        "id": "-nvE9EIkhDlA"
      }
    },
    {
      "cell_type": "code",
      "source": [
        "number = int(input(\"Enter a number: \"))\n",
        "\n",
        "if number < 0:\n",
        "    print(\"Factorial does not exist for negative numbers.\")\n",
        "else:\n",
        "    factorial = 1\n",
        "    while number > 0:\n",
        "        factorial *= number\n",
        "        number -= 1\n",
        "\n",
        "    print(\"Factorial:\", factorial)\n"
      ],
      "metadata": {
        "colab": {
          "base_uri": "https://localhost:8080/"
        },
        "id": "r1pgFRfthDwu",
        "outputId": "4cfac100-e4e4-46ed-a7af-7c33a7e36e12"
      },
      "execution_count": null,
      "outputs": [
        {
          "output_type": "stream",
          "name": "stdout",
          "text": [
            "Enter a number: 65\n",
            "Factorial: 8247650592082470666723170306785496252186258551345437492922123134388955774976000000000000000\n"
          ]
        }
      ]
    },
    {
      "cell_type": "markdown",
      "source": [],
      "metadata": {
        "id": "0B-ITIapxe8l"
      }
    }
  ]
}